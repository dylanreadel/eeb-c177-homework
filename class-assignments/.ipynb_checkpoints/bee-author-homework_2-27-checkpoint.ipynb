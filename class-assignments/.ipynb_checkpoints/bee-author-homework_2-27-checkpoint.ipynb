{
 "cells": [
  {
   "cell_type": "code",
   "execution_count": 18,
   "metadata": {},
   "outputs": [
    {
     "data": {
      "text/plain": [
       "'The author with the most entries in the database is Cockerell with 3345 entries.'"
      ]
     },
     "execution_count": 18,
     "metadata": {},
     "output_type": "execute_result"
    }
   ],
   "source": [
    "import csv\n",
    "import re\n",
    "from collections import defaultdict\n",
    "import operator\n",
    "\n",
    "def find_authors(filename, author_col_header, regex):\n",
    "# function with parameters for filename, author column header name, and the regex you want to search with\n",
    "\n",
    "    authors = []\n",
    "\n",
    "    with open(filename, 'r') as rf:\n",
    "        data = csv.DictReader(rf, delimiter = '\\t')\n",
    "        header = data.fieldnames\n",
    "        for dic in data:\n",
    "            authors.append(dic[author_col_header])\n",
    "    # reading the file as a dictionary\n",
    "    # appending the authors dictionary to a list where each item is the authors of an entry\n",
    "    \n",
    "    charRe = re.compile(regex)\n",
    "    # defining the parameter for what an author name is\n",
    "    \n",
    "    indiv_authors = list()\n",
    "    # creating empty list that will contain separated author names\n",
    "    \n",
    "    author_counts = defaultdict(int)\n",
    "    # creating empty integer default dictionary that will contain entry counts for each author\n",
    "    \n",
    "    for item in authors:\n",
    "        indiv_authors.append(charRe.search(item).group(0))\n",
    "    # iterating over author entries in raw list\n",
    "    # search each entry and extract author names only and separately\n",
    "    # append each individual name to the empty list\n",
    "    \n",
    "    for author in indiv_authors:\n",
    "        author_counts[author] += 1\n",
    "    # iterating over individual names in list\n",
    "    # creaing key in dictionary for each name\n",
    "    # setting value of each name as the number of entries\n",
    "    \n",
    "    sorted_authors = sorted(author_counts.items(), key = operator.itemgetter(1), reverse = True)\n",
    "    author_most = sorted_authors[0]\n",
    "    # sorting the dictionary in descending order and assigning to variable\n",
    "    # taking first item in sorted list and assigning to variable\n",
    "    \n",
    "    return 'The author with the most entries in the database is {} with {} entries.'.format(author_most[0], author_most[1])\n",
    "        \n",
    "find_authors('bee_list.txt', 'Taxon Author', '[A-Za-z][^.][A-Za-z-]*[^, ]*')"
   ]
  },
  {
   "cell_type": "code",
   "execution_count": 25,
   "metadata": {},
   "outputs": [
    {
     "ename": "TypeError",
     "evalue": "expected string or bytes-like object",
     "output_type": "error",
     "traceback": [
      "\u001b[0;31m---------------------------------------------------------------------------\u001b[0m",
      "\u001b[0;31mTypeError\u001b[0m                                 Traceback (most recent call last)",
      "\u001b[0;32m<ipython-input-25-6b615a84a8ed>\u001b[0m in \u001b[0;36m<module>\u001b[0;34m\u001b[0m\n\u001b[1;32m      9\u001b[0m \u001b[0;34m\u001b[0m\u001b[0m\n\u001b[1;32m     10\u001b[0m \u001b[0mstring\u001b[0m \u001b[0;34m=\u001b[0m \u001b[0;34m[\u001b[0m\u001b[0;34m'Tadauchi, A. B. Hirashima & Matsumura, 1987'\u001b[0m\u001b[0;34m]\u001b[0m\u001b[0;34m\u001b[0m\u001b[0;34m\u001b[0m\u001b[0m\n\u001b[0;32m---> 11\u001b[0;31m \u001b[0mmatch_author_year\u001b[0m\u001b[0;34m(\u001b[0m\u001b[0mstring\u001b[0m\u001b[0;34m)\u001b[0m\u001b[0;34m\u001b[0m\u001b[0;34m\u001b[0m\u001b[0m\n\u001b[0m",
      "\u001b[0;32m<ipython-input-25-6b615a84a8ed>\u001b[0m in \u001b[0;36mmatch_author_year\u001b[0;34m(data)\u001b[0m\n\u001b[1;32m      2\u001b[0m \u001b[0;34m\u001b[0m\u001b[0m\n\u001b[1;32m      3\u001b[0m     \u001b[0mauth_regex\u001b[0m \u001b[0;34m=\u001b[0m \u001b[0mre\u001b[0m\u001b[0;34m.\u001b[0m\u001b[0mcompile\u001b[0m\u001b[0;34m(\u001b[0m\u001b[0;34mr'\\(?([\\w\\s\\-\\&,\\.]*),\\s(\\d{4})'\u001b[0m\u001b[0;34m)\u001b[0m\u001b[0;34m\u001b[0m\u001b[0;34m\u001b[0m\u001b[0m\n\u001b[0;32m----> 4\u001b[0;31m     \u001b[0mauthor_match\u001b[0m \u001b[0;34m=\u001b[0m \u001b[0mre\u001b[0m\u001b[0;34m.\u001b[0m\u001b[0mmatch\u001b[0m\u001b[0;34m(\u001b[0m\u001b[0mauth_regex\u001b[0m\u001b[0;34m,\u001b[0m \u001b[0mdata\u001b[0m\u001b[0;34m)\u001b[0m\u001b[0;34m\u001b[0m\u001b[0;34m\u001b[0m\u001b[0m\n\u001b[0m\u001b[1;32m      5\u001b[0m     \u001b[0mauthors\u001b[0m \u001b[0;34m=\u001b[0m \u001b[0mauthor_match\u001b[0m\u001b[0;34m.\u001b[0m\u001b[0mgroup\u001b[0m\u001b[0;34m(\u001b[0m\u001b[0;36m1\u001b[0m\u001b[0;34m)\u001b[0m\u001b[0;34m\u001b[0m\u001b[0;34m\u001b[0m\u001b[0m\n\u001b[1;32m      6\u001b[0m     \u001b[0myear\u001b[0m \u001b[0;34m=\u001b[0m \u001b[0mauthor_match\u001b[0m\u001b[0;34m.\u001b[0m\u001b[0mgroup\u001b[0m\u001b[0;34m(\u001b[0m\u001b[0;36m2\u001b[0m\u001b[0;34m)\u001b[0m\u001b[0;34m\u001b[0m\u001b[0;34m\u001b[0m\u001b[0m\n",
      "\u001b[0;32m~/anaconda3/lib/python3.7/re.py\u001b[0m in \u001b[0;36mmatch\u001b[0;34m(pattern, string, flags)\u001b[0m\n\u001b[1;32m    171\u001b[0m     \"\"\"Try to apply the pattern at the start of the string, returning\n\u001b[1;32m    172\u001b[0m     a Match object, or None if no match was found.\"\"\"\n\u001b[0;32m--> 173\u001b[0;31m     \u001b[0;32mreturn\u001b[0m \u001b[0m_compile\u001b[0m\u001b[0;34m(\u001b[0m\u001b[0mpattern\u001b[0m\u001b[0;34m,\u001b[0m \u001b[0mflags\u001b[0m\u001b[0;34m)\u001b[0m\u001b[0;34m.\u001b[0m\u001b[0mmatch\u001b[0m\u001b[0;34m(\u001b[0m\u001b[0mstring\u001b[0m\u001b[0;34m)\u001b[0m\u001b[0;34m\u001b[0m\u001b[0;34m\u001b[0m\u001b[0m\n\u001b[0m\u001b[1;32m    174\u001b[0m \u001b[0;34m\u001b[0m\u001b[0m\n\u001b[1;32m    175\u001b[0m \u001b[0;32mdef\u001b[0m \u001b[0mfullmatch\u001b[0m\u001b[0;34m(\u001b[0m\u001b[0mpattern\u001b[0m\u001b[0;34m,\u001b[0m \u001b[0mstring\u001b[0m\u001b[0;34m,\u001b[0m \u001b[0mflags\u001b[0m\u001b[0;34m=\u001b[0m\u001b[0;36m0\u001b[0m\u001b[0;34m)\u001b[0m\u001b[0;34m:\u001b[0m\u001b[0;34m\u001b[0m\u001b[0;34m\u001b[0m\u001b[0m\n",
      "\u001b[0;31mTypeError\u001b[0m: expected string or bytes-like object"
     ]
    }
   ],
   "source": [
    "def match_author_year(data):\n",
    "    \n",
    "    auth_regex = re.compile(r'\\(?([\\w\\s\\-\\&,\\.]*),\\s(\\d{4})')\n",
    "    author_match = re.match(auth_regex, data)\n",
    "    authors = author_match.group(1)\n",
    "    year = author_match.group(2)\n",
    "    authors = re.split(',|\\&', authors)\n",
    "    return[authors, year]\n",
    "\n",
    "string = ['Tadauchi, A. B. Hirashima & Matsumura, 1987']\n",
    "match_author_year(string)"
   ]
  },
  {
   "cell_type": "code",
   "execution_count": null,
   "metadata": {},
   "outputs": [],
   "source": [
    "from collections import defaultdict\n",
    "\n",
    "author_dict = defaultdict(int)\n",
    "year_dict = defaultdict(int)\n",
    "\n",
    "for record in "
   ]
  },
  {
   "cell_type": "code",
   "execution_count": null,
   "metadata": {},
   "outputs": [],
   "source": []
  }
 ],
 "metadata": {
  "kernelspec": {
   "display_name": "Python 3",
   "language": "python",
   "name": "python3"
  },
  "language_info": {
   "codemirror_mode": {
    "name": "ipython",
    "version": 3
   },
   "file_extension": ".py",
   "mimetype": "text/x-python",
   "name": "python",
   "nbconvert_exporter": "python",
   "pygments_lexer": "ipython3",
   "version": "3.7.5"
  }
 },
 "nbformat": 4,
 "nbformat_minor": 2
}
