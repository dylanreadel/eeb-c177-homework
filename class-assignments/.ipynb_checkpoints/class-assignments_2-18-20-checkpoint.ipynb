{
 "cells": [
  {
   "cell_type": "code",
   "execution_count": 2,
   "metadata": {},
   "outputs": [],
   "source": [
    "import csv\n",
    "\n",
    "with open('fishdata.csv', 'r') as rf:\n",
    "    reader = csv.DictReader(rf)\n",
    "    header = reader.fieldnames\n",
    "    with open('fishdata_Labridae.csv', 'w') as wf:\n",
    "        writer = csv.DictWriter(wf, fieldnames = header, delimiter = ',')\n",
    "        for row in reader:\n",
    "            if row['family'] == 'Labridae':\n",
    "                writer.writerow(row)"
   ]
  },
  {
   "cell_type": "code",
   "execution_count": 52,
   "metadata": {},
   "outputs": [
    {
     "name": "stdout",
     "output_type": "stream",
     "text": [
      "The mean length of the family Labridae is 26.9\n"
     ]
    }
   ],
   "source": [
    "import numpy as np\n",
    "\n",
    "lengths = []\n",
    "\n",
    "with open('fishdata_Labridae.csv', 'r') as rf:\n",
    "    extraction = csv.reader(rf)\n",
    "    for row in extraction:\n",
    "        if row[3] != 'NA':\n",
    "            lengths.append(float(row[3]))\n",
    "    \n",
    "meanlength_Labridae = np.mean(lengths)\n",
    "\n",
    "print('The mean length of the family Labridae is {:.01f}'.format(meanlength_Labridae))"
   ]
  },
  {
   "cell_type": "code",
   "execution_count": 42,
   "metadata": {},
   "outputs": [
    {
     "ename": "ValueError",
     "evalue": "could not convert string to float: 'length'",
     "output_type": "error",
     "traceback": [
      "\u001b[0;31m---------------------------------------------------------------------------\u001b[0m",
      "\u001b[0;31mValueError\u001b[0m                                Traceback (most recent call last)",
      "\u001b[0;32m<ipython-input-42-4813e50f7782>\u001b[0m in \u001b[0;36m<module>\u001b[0;34m\u001b[0m\n\u001b[1;32m     13\u001b[0m         \u001b[0;32mfor\u001b[0m \u001b[0mfamily\u001b[0m \u001b[0;32min\u001b[0m \u001b[0munique_families\u001b[0m\u001b[0;34m:\u001b[0m\u001b[0;34m\u001b[0m\u001b[0;34m\u001b[0m\u001b[0m\n\u001b[1;32m     14\u001b[0m             \u001b[0;32mif\u001b[0m \u001b[0mrow\u001b[0m\u001b[0;34m[\u001b[0m\u001b[0;36m3\u001b[0m\u001b[0;34m]\u001b[0m \u001b[0;34m!=\u001b[0m \u001b[0;34m'NA'\u001b[0m \u001b[0;32mor\u001b[0m \u001b[0;34m'length'\u001b[0m\u001b[0;34m:\u001b[0m\u001b[0;34m\u001b[0m\u001b[0;34m\u001b[0m\u001b[0m\n\u001b[0;32m---> 15\u001b[0;31m                 \u001b[0mnp\u001b[0m\u001b[0;34m.\u001b[0m\u001b[0mmax\u001b[0m\u001b[0;34m(\u001b[0m\u001b[0mfloat\u001b[0m\u001b[0;34m(\u001b[0m\u001b[0mrow\u001b[0m\u001b[0;34m[\u001b[0m\u001b[0;36m3\u001b[0m\u001b[0;34m]\u001b[0m\u001b[0;34m)\u001b[0m\u001b[0;34m)\u001b[0m\u001b[0;34m\u001b[0m\u001b[0;34m\u001b[0m\u001b[0m\n\u001b[0m",
      "\u001b[0;31mValueError\u001b[0m: could not convert string to float: 'length'"
     ]
    }
   ],
   "source": [
    "families = []\n",
    "\n",
    "with open('fishdata.csv', 'r') as rf:\n",
    "    extraction = csv.reader(rf)\n",
    "    for row in extraction:\n",
    "        families.append(row[1])\n",
    "\n",
    "unique_families = set(families)\n",
    "\n",
    "with open('fishdata.csv', 'r') as rf:\n",
    "    extraction = csv.reader(rf)\n",
    "    for row in extraction:\n",
    "        for family in unique_families:\n",
    "            if row[3] != 'NA' or 'length':\n",
    "                np.max(float(row[3]))"
   ]
  },
  {
   "cell_type": "code",
   "execution_count": 68,
   "metadata": {},
   "outputs": [],
   "source": [
    "def length_of_string():\n",
    "    \n",
    "    x = input('How long is this string? ')\n",
    "\n",
    "    print('This string has {} characters.'.format(len(x)))"
   ]
  },
  {
   "cell_type": "code",
   "execution_count": 70,
   "metadata": {},
   "outputs": [
    {
     "name": "stdout",
     "output_type": "stream",
     "text": [
      "How long is this string? 8497548239b3jibfsdnfs98 3   dsfsldk\n",
      "This string has 35 characters.\n"
     ]
    }
   ],
   "source": [
    "length_of_string()"
   ]
  },
  {
   "cell_type": "code",
   "execution_count": null,
   "metadata": {},
   "outputs": [],
   "source": []
  }
 ],
 "metadata": {
  "kernelspec": {
   "display_name": "Python 3",
   "language": "python",
   "name": "python3"
  },
  "language_info": {
   "codemirror_mode": {
    "name": "ipython",
    "version": 3
   },
   "file_extension": ".py",
   "mimetype": "text/x-python",
   "name": "python",
   "nbconvert_exporter": "python",
   "pygments_lexer": "ipython3",
   "version": "3.7.5"
  }
 },
 "nbformat": 4,
 "nbformat_minor": 2
}
