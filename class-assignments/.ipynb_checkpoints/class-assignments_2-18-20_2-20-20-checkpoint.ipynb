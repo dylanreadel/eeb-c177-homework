{
 "cells": [
  {
   "cell_type": "code",
   "execution_count": 2,
   "metadata": {},
   "outputs": [],
   "source": [
    "import csv\n",
    "\n",
    "with open('fishdata.csv', 'r') as rf:\n",
    "    reader = csv.DictReader(rf)\n",
    "    header = reader.fieldnames\n",
    "    with open('fishdata_Labridae.csv', 'w') as wf:\n",
    "        writer = csv.DictWriter(wf, fieldnames = header, delimiter = ',')\n",
    "        for row in reader:\n",
    "            if row['family'] == 'Labridae':\n",
    "                writer.writerow(row)"
   ]
  },
  {
   "cell_type": "code",
   "execution_count": 52,
   "metadata": {},
   "outputs": [
    {
     "name": "stdout",
     "output_type": "stream",
     "text": [
      "The mean length of the family Labridae is 26.9\n"
     ]
    }
   ],
   "source": [
    "import numpy as np\n",
    "\n",
    "lengths = []\n",
    "\n",
    "with open('fishdata_Labridae.csv', 'r') as rf:\n",
    "    extraction = csv.reader(rf)\n",
    "    for row in extraction:\n",
    "        if row[3] != 'NA':\n",
    "            lengths.append(float(row[3]))\n",
    "    \n",
    "meanlength_Labridae = np.mean(lengths)\n",
    "\n",
    "print('The mean length of the family Labridae is {:.01f}'.format(meanlength_Labridae))"
   ]
  },
  {
   "cell_type": "code",
   "execution_count": 42,
   "metadata": {},
   "outputs": [
    {
     "ename": "ValueError",
     "evalue": "could not convert string to float: 'length'",
     "output_type": "error",
     "traceback": [
      "\u001b[0;31m---------------------------------------------------------------------------\u001b[0m",
      "\u001b[0;31mValueError\u001b[0m                                Traceback (most recent call last)",
      "\u001b[0;32m<ipython-input-42-4813e50f7782>\u001b[0m in \u001b[0;36m<module>\u001b[0;34m\u001b[0m\n\u001b[1;32m     13\u001b[0m         \u001b[0;32mfor\u001b[0m \u001b[0mfamily\u001b[0m \u001b[0;32min\u001b[0m \u001b[0munique_families\u001b[0m\u001b[0;34m:\u001b[0m\u001b[0;34m\u001b[0m\u001b[0;34m\u001b[0m\u001b[0m\n\u001b[1;32m     14\u001b[0m             \u001b[0;32mif\u001b[0m \u001b[0mrow\u001b[0m\u001b[0;34m[\u001b[0m\u001b[0;36m3\u001b[0m\u001b[0;34m]\u001b[0m \u001b[0;34m!=\u001b[0m \u001b[0;34m'NA'\u001b[0m \u001b[0;32mor\u001b[0m \u001b[0;34m'length'\u001b[0m\u001b[0;34m:\u001b[0m\u001b[0;34m\u001b[0m\u001b[0;34m\u001b[0m\u001b[0m\n\u001b[0;32m---> 15\u001b[0;31m                 \u001b[0mnp\u001b[0m\u001b[0;34m.\u001b[0m\u001b[0mmax\u001b[0m\u001b[0;34m(\u001b[0m\u001b[0mfloat\u001b[0m\u001b[0;34m(\u001b[0m\u001b[0mrow\u001b[0m\u001b[0;34m[\u001b[0m\u001b[0;36m3\u001b[0m\u001b[0;34m]\u001b[0m\u001b[0;34m)\u001b[0m\u001b[0;34m)\u001b[0m\u001b[0;34m\u001b[0m\u001b[0;34m\u001b[0m\u001b[0m\n\u001b[0m",
      "\u001b[0;31mValueError\u001b[0m: could not convert string to float: 'length'"
     ]
    }
   ],
   "source": [
    "families = []\n",
    "\n",
    "with open('fishdata.csv', 'r') as rf:\n",
    "    extraction = csv.reader(rf)\n",
    "    for row in extraction:\n",
    "        families.append(row[1])\n",
    "\n",
    "unique_families = set(families)\n",
    "\n",
    "with open('fishdata.csv', 'r') as rf:\n",
    "    extraction = csv.reader(rf)\n",
    "    for row in extraction:\n",
    "        for family in unique_families:\n",
    "            if row[3] != 'NA' or 'length':\n",
    "                np.max(float(row[3]))"
   ]
  },
  {
   "cell_type": "code",
   "execution_count": 68,
   "metadata": {},
   "outputs": [],
   "source": [
    "def length_of_string():\n",
    "    \n",
    "    x = input('How long is this string? ')\n",
    "\n",
    "    print('This string has {} characters.'.format(len(x)))"
   ]
  },
  {
   "cell_type": "code",
   "execution_count": 70,
   "metadata": {},
   "outputs": [
    {
     "name": "stdout",
     "output_type": "stream",
     "text": [
      "How long is this string? 8497548239b3jibfsdnfs98 3   dsfsldk\n",
      "This string has 35 characters.\n"
     ]
    }
   ],
   "source": [
    "length_of_string()"
   ]
  },
  {
   "cell_type": "code",
   "execution_count": 1,
   "metadata": {},
   "outputs": [],
   "source": [
    "def strLen(ss):\n",
    "    sl = len(ss)\n",
    "    print('The length of the string is {}.'.format(sl))"
   ]
  },
  {
   "cell_type": "code",
   "execution_count": 4,
   "metadata": {},
   "outputs": [
    {
     "name": "stdout",
     "output_type": "stream",
     "text": [
      "The length of the string is 5.\n"
     ]
    }
   ],
   "source": [
    "strings = ['ab', 'abc', 'abcd', 'abcd1234', 'abcde5678910']\n",
    "\n",
    "strLen(strings)\n",
    "\n",
    "# function counts the length of what is passed through\n",
    "# in this case, it outputs the length of the list"
   ]
  },
  {
   "cell_type": "code",
   "execution_count": 73,
   "metadata": {},
   "outputs": [],
   "source": [
    "def AT_content(DNA_sequence, sigfigs = 1):\n",
    "    \n",
    "    AT_list = []\n",
    "    \n",
    "    for base in DNA_sequence.upper():\n",
    "        if base == 'A':\n",
    "            AT_list.append(base)\n",
    "        if base == 'T':\n",
    "            AT_list.append(base)\n",
    "    \n",
    "    AT_len = len(AT_list)\n",
    "    total_len = len(DNA_sequence.strip('N'))        # strip the length of the N's to run the assert statement\n",
    "    per_AT = ((AT_len / total_len) * 100)\n",
    "    \n",
    "    # use return instead of print to capture the output\n",
    "    # able to be saved to a variable\n",
    "    return round(per_AT, sigfigs)"
   ]
  },
  {
   "cell_type": "code",
   "execution_count": 74,
   "metadata": {},
   "outputs": [
    {
     "name": "stdout",
     "output_type": "stream",
     "text": [
      "65.909 , 43.18182 , 54.5\n"
     ]
    }
   ],
   "source": [
    "AT_content1 = AT_content('ATGCTAAAGTCTGAACAAATAGTGCTTTATTAGCGTCGCAATTT', 3)\n",
    "AT_content2 = AT_content('GCGCTGACGATGCAGTAGCGCGATATGCATCGGCATCGATTACG', 5)\n",
    "AT_content3 = AT_content('actgtgcatgcattatcgatgcgcacgatcgtagctatactgat')\n",
    "\n",
    "print(AT_content1, ',', AT_content2, ',', AT_content3)"
   ]
  },
  {
   "cell_type": "code",
   "execution_count": 36,
   "metadata": {},
   "outputs": [],
   "source": [
    "# alternative function to get AT percentages using 'count'\n",
    "\n",
    "def get_AT_content(DNA_sequence):\n",
    "    length = len(DNA_sequence)\n",
    "    a_count = DNA_sequence.count('A')\n",
    "    t_count = DNA_sequence.count('T')\n",
    "    AT_content = (a_count + t_count) / length * 100\n",
    "    return AT_content"
   ]
  },
  {
   "cell_type": "code",
   "execution_count": 37,
   "metadata": {},
   "outputs": [
    {
     "data": {
      "text/plain": [
       "52.85714285714286"
      ]
     },
     "execution_count": 37,
     "metadata": {},
     "output_type": "execute_result"
    }
   ],
   "source": [
    "get_AT_content(DNA)"
   ]
  },
  {
   "cell_type": "code",
   "execution_count": 56,
   "metadata": {},
   "outputs": [],
   "source": [
    "def outoforder(number, pet):\n",
    "    print('I own {} {}s.'.format(number, pet))"
   ]
  },
  {
   "cell_type": "code",
   "execution_count": 58,
   "metadata": {
    "scrolled": true
   },
   "outputs": [
    {
     "name": "stdout",
     "output_type": "stream",
     "text": [
      "I own 3 dogs.\n",
      "I own dog 3s.\n"
     ]
    }
   ],
   "source": [
    "outoforder(3, 'dog')\n",
    "outoforder('dog', 3)"
   ]
  },
  {
   "cell_type": "code",
   "execution_count": 71,
   "metadata": {},
   "outputs": [],
   "source": [
    "# assert statements are a check for functions to see if they work correctly\n",
    "\n",
    "assert AT_content('ATGC') == 50"
   ]
  },
  {
   "cell_type": "code",
   "execution_count": 76,
   "metadata": {},
   "outputs": [],
   "source": [
    "assert AT_content('ATGCNNNNNNNNNN') == 50"
   ]
  },
  {
   "cell_type": "code",
   "execution_count": 77,
   "metadata": {},
   "outputs": [
    {
     "ename": "ZeroDivisionError",
     "evalue": "division by zero",
     "output_type": "error",
     "traceback": [
      "\u001b[0;31m---------------------------------------------------------------------------\u001b[0m",
      "\u001b[0;31mZeroDivisionError\u001b[0m                         Traceback (most recent call last)",
      "\u001b[0;32m<ipython-input-77-62a53c5ea28d>\u001b[0m in \u001b[0;36m<module>\u001b[0;34m\u001b[0m\n\u001b[1;32m      5\u001b[0m     \u001b[0;32mreturn\u001b[0m \u001b[0my\u001b[0m\u001b[0;34m\u001b[0m\u001b[0;34m\u001b[0m\u001b[0m\n\u001b[1;32m      6\u001b[0m \u001b[0;34m\u001b[0m\u001b[0m\n\u001b[0;32m----> 7\u001b[0;31m \u001b[0mcreateabug\u001b[0m\u001b[0;34m(\u001b[0m\u001b[0;36m5\u001b[0m\u001b[0;34m)\u001b[0m\u001b[0;34m\u001b[0m\u001b[0;34m\u001b[0m\u001b[0m\n\u001b[0m",
      "\u001b[0;32m<ipython-input-77-62a53c5ea28d>\u001b[0m in \u001b[0;36mcreateabug\u001b[0;34m(x)\u001b[0m\n\u001b[1;32m      2\u001b[0m     \u001b[0my\u001b[0m \u001b[0;34m=\u001b[0m \u001b[0mx\u001b[0m\u001b[0;34m**\u001b[0m\u001b[0;36m4\u001b[0m\u001b[0;34m\u001b[0m\u001b[0;34m\u001b[0m\u001b[0m\n\u001b[1;32m      3\u001b[0m     \u001b[0mz\u001b[0m \u001b[0;34m=\u001b[0m \u001b[0;36m0\u001b[0m\u001b[0;34m\u001b[0m\u001b[0;34m\u001b[0m\u001b[0m\n\u001b[0;32m----> 4\u001b[0;31m     \u001b[0my\u001b[0m \u001b[0;34m=\u001b[0m \u001b[0my\u001b[0m\u001b[0;34m/\u001b[0m\u001b[0mz\u001b[0m\u001b[0;34m\u001b[0m\u001b[0;34m\u001b[0m\u001b[0m\n\u001b[0m\u001b[1;32m      5\u001b[0m     \u001b[0;32mreturn\u001b[0m \u001b[0my\u001b[0m\u001b[0;34m\u001b[0m\u001b[0;34m\u001b[0m\u001b[0m\n\u001b[1;32m      6\u001b[0m \u001b[0;34m\u001b[0m\u001b[0m\n",
      "\u001b[0;31mZeroDivisionError\u001b[0m: division by zero"
     ]
    }
   ],
   "source": [
    "def createabug(x):\n",
    "    y = x**4\n",
    "    z = 0\n",
    "    y = y/z\n",
    "    return y\n",
    "\n",
    "createabug(5)"
   ]
  },
  {
   "cell_type": "code",
   "execution_count": 79,
   "metadata": {},
   "outputs": [
    {
     "ename": "TypeError",
     "evalue": "'function' object is not iterable",
     "output_type": "error",
     "traceback": [
      "\u001b[0;31m---------------------------------------------------------------------------\u001b[0m",
      "\u001b[0;31mTypeError\u001b[0m                                 Traceback (most recent call last)",
      "\u001b[0;32m<ipython-input-79-6657b459eab5>\u001b[0m in \u001b[0;36m<module>\u001b[0;34m\u001b[0m\n\u001b[1;32m      1\u001b[0m \u001b[0;32mwith\u001b[0m \u001b[0mopen\u001b[0m\u001b[0;34m(\u001b[0m\u001b[0;34m'debugme.py'\u001b[0m\u001b[0;34m,\u001b[0m \u001b[0;34m'w'\u001b[0m\u001b[0;34m)\u001b[0m \u001b[0;32mas\u001b[0m \u001b[0mwf\u001b[0m\u001b[0;34m:\u001b[0m\u001b[0;34m\u001b[0m\u001b[0;34m\u001b[0m\u001b[0m\n\u001b[0;32m----> 2\u001b[0;31m     \u001b[0;32mfor\u001b[0m \u001b[0mrow\u001b[0m \u001b[0;32min\u001b[0m \u001b[0mcreateabug\u001b[0m\u001b[0;34m:\u001b[0m\u001b[0;34m\u001b[0m\u001b[0;34m\u001b[0m\u001b[0m\n\u001b[0m\u001b[1;32m      3\u001b[0m         \u001b[0mwriterow\u001b[0m\u001b[0;34m.\u001b[0m\u001b[0mrow\u001b[0m\u001b[0;34m\u001b[0m\u001b[0;34m\u001b[0m\u001b[0m\n",
      "\u001b[0;31mTypeError\u001b[0m: 'function' object is not iterable"
     ]
    }
   ],
   "source": [
    "with open('debugme.py', 'w') as wf:"
   ]
  },
  {
   "cell_type": "code",
   "execution_count": null,
   "metadata": {},
   "outputs": [],
   "source": []
  }
 ],
 "metadata": {
  "kernelspec": {
   "display_name": "Python 3",
   "language": "python",
   "name": "python3"
  },
  "language_info": {
   "codemirror_mode": {
    "name": "ipython",
    "version": 3
   },
   "file_extension": ".py",
   "mimetype": "text/x-python",
   "name": "python",
   "nbconvert_exporter": "python",
   "pygments_lexer": "ipython3",
   "version": "3.7.5"
  }
 },
 "nbformat": 4,
 "nbformat_minor": 2
}
