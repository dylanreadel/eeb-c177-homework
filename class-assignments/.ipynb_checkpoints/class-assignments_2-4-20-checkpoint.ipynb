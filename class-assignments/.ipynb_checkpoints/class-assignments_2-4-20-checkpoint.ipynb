{
 "cells": [
  {
   "cell_type": "code",
   "execution_count": 1,
   "metadata": {},
   "outputs": [],
   "source": [
    "# have a default value for keys that weren't supplied a value\n",
    "\n",
    "from collections import defaultdict"
   ]
  },
  {
   "cell_type": "code",
   "execution_count": 2,
   "metadata": {},
   "outputs": [],
   "source": [
    "ice_cream = defaultdict(lambda: 'Vanilla')"
   ]
  },
  {
   "cell_type": "code",
   "execution_count": 3,
   "metadata": {},
   "outputs": [
    {
     "name": "stdout",
     "output_type": "stream",
     "text": [
      "defaultdict(<function <lambda> at 0x7f8e49c19ef0>, {})\n"
     ]
    }
   ],
   "source": [
    "print(ice_cream)"
   ]
  },
  {
   "cell_type": "code",
   "execution_count": 4,
   "metadata": {},
   "outputs": [],
   "source": [
    "# add key and value to dictionary\n",
    "\n",
    "ice_cream['Sarah'] = 'Chunky Monkey'"
   ]
  },
  {
   "cell_type": "code",
   "execution_count": 5,
   "metadata": {},
   "outputs": [
    {
     "name": "stdout",
     "output_type": "stream",
     "text": [
      "defaultdict(<function <lambda> at 0x7f8e49c19ef0>, {'Sarah': 'Chunky Monkey'})\n"
     ]
    }
   ],
   "source": [
    "print(ice_cream)"
   ]
  },
  {
   "cell_type": "code",
   "execution_count": 9,
   "metadata": {},
   "outputs": [
    {
     "name": "stdout",
     "output_type": "stream",
     "text": [
      "Chunky Monkey\n",
      "Peanut Butter\n"
     ]
    }
   ],
   "source": [
    "# printing just the key's value\n",
    "\n",
    "print(ice_cream['Sarah'])\n",
    "\n",
    "# default value is used for key not in dictionary\n",
    "\n",
    "print(ice_cream['Joe'])\n",
    "\n",
    "ice_cream['Joe'] = 'Peanut Butter'"
   ]
  },
  {
   "cell_type": "code",
   "execution_count": 10,
   "metadata": {},
   "outputs": [],
   "source": [
    "# use .split to create a list quickly\n",
    "\n",
    "food_list = 'pasta pizza bread bread pizza coffee tacos taco tacos burgers burgers burger bugers tacos pasta tacos cheese'.split()"
   ]
  },
  {
   "cell_type": "code",
   "execution_count": 11,
   "metadata": {},
   "outputs": [
    {
     "name": "stdout",
     "output_type": "stream",
     "text": [
      "['pasta', 'pizza', 'bread', 'bread', 'pizza', 'coffee', 'tacos', 'taco', 'tacos', 'burgers', 'burgers', 'burger', 'bugers', 'tacos', 'pasta', 'tacos', 'cheese']\n"
     ]
    }
   ],
   "source": [
    "print(food_list)"
   ]
  },
  {
   "cell_type": "code",
   "execution_count": 12,
   "metadata": {},
   "outputs": [
    {
     "name": "stdout",
     "output_type": "stream",
     "text": [
      "defaultdict(<class 'int'>, {})\n"
     ]
    }
   ],
   "source": [
    "# create a default dictionary value of an integer, no value is 0\n",
    "\n",
    "food_counts = defaultdict(int)\n",
    "print(food_counts)"
   ]
  },
  {
   "cell_type": "code",
   "execution_count": 13,
   "metadata": {},
   "outputs": [],
   "source": [
    "# for loop to count food occurrences in list and enter into dictionary\n",
    "\n",
    "for food in food_list:\n",
    "    #food_counts[food] = food_counts[food] + 1\n",
    "    food_counts[food] += 1 # adds 1 to itself, same as ^^"
   ]
  },
  {
   "cell_type": "code",
   "execution_count": 22,
   "metadata": {},
   "outputs": [
    {
     "name": "stdout",
     "output_type": "stream",
     "text": [
      "defaultdict(<class 'int'>, {'pasta': 2, 'pizza': 2, 'bread': 2, 'coffee': 1, 'tacos': 4, 'taco': 1, 'burgers': 2, 'burger': 1, 'bugers': 1, 'cheese': 1, 'steak': 0, 'eggs': 0})\n"
     ]
    }
   ],
   "source": [
    "print(food_counts)"
   ]
  },
  {
   "cell_type": "code",
   "execution_count": 16,
   "metadata": {},
   "outputs": [
    {
     "name": "stdout",
     "output_type": "stream",
     "text": [
      "2\n"
     ]
    }
   ],
   "source": [
    "# returns count of specific food\n",
    "\n",
    "print(food_counts['pizza'])"
   ]
  },
  {
   "cell_type": "code",
   "execution_count": 21,
   "metadata": {},
   "outputs": [
    {
     "name": "stdout",
     "output_type": "stream",
     "text": [
      "0\n"
     ]
    },
    {
     "data": {
      "text/plain": [
       "0"
      ]
     },
     "execution_count": 21,
     "metadata": {},
     "output_type": "execute_result"
    }
   ],
   "source": [
    "# returns 0 for any food not in list\n",
    "\n",
    "print(food_counts['steak'])\n",
    "food_counts['eggs']"
   ]
  },
  {
   "cell_type": "code",
   "execution_count": 23,
   "metadata": {},
   "outputs": [],
   "source": [
    "city_list = [('TX','Austin'), ('TX','Houston'), ('NY','Albany'), ('NY', 'Syracuse'), ('NY', 'Buffalo'), ('NY', 'Rochester'), ('TX', 'Dallas'), ('CA','Sacramento'), ('CA', 'Palo Alto'), ('GA', 'Atlanta')]"
   ]
  },
  {
   "cell_type": "code",
   "execution_count": 24,
   "metadata": {},
   "outputs": [
    {
     "name": "stdout",
     "output_type": "stream",
     "text": [
      "[('TX', 'Austin'), ('TX', 'Houston'), ('NY', 'Albany'), ('NY', 'Syracuse'), ('NY', 'Buffalo'), ('NY', 'Rochester'), ('TX', 'Dallas'), ('CA', 'Sacramento'), ('CA', 'Palo Alto'), ('GA', 'Atlanta')]\n"
     ]
    }
   ],
   "source": [
    "print(city_list)"
   ]
  },
  {
   "cell_type": "code",
   "execution_count": 25,
   "metadata": {},
   "outputs": [
    {
     "name": "stdout",
     "output_type": "stream",
     "text": [
      "defaultdict(<class 'list'>, {})\n"
     ]
    }
   ],
   "source": [
    "cities_by_state = defaultdict(list)\n",
    "\n",
    "print(cities_by_state)"
   ]
  },
  {
   "cell_type": "code",
   "execution_count": 29,
   "metadata": {},
   "outputs": [
    {
     "name": "stdout",
     "output_type": "stream",
     "text": [
      "defaultdict(<class 'list'>, {'TX': ['Austin', 'Houston', 'Dallas'], 'NY': ['Albany', 'Syracuse', 'Buffalo', 'Rochester'], 'CA': ['Sacramento', 'Palo Alto'], 'GA': ['Atlanta']})\n"
     ]
    }
   ],
   "source": [
    "# for loop to create dictionary with states as keys and cities as values\n",
    "\n",
    "for state, city in city_list:\n",
    "# for loop has the key and value\n",
    "    cities_by_state[state].append(city)\n",
    "    # cities_by_state[state] opens a new list for each state\n",
    "    # .append(city) puts each city into the state list it corresponds to\n",
    "    \n",
    "print(cities_by_state)"
   ]
  },
  {
   "cell_type": "code",
   "execution_count": 34,
   "metadata": {},
   "outputs": [
    {
     "name": "stdout",
     "output_type": "stream",
     "text": [
      "TX : Austin, Houston, Dallas\n",
      "NY : Albany, Syracuse, Buffalo, Rochester\n",
      "CA : Sacramento, Palo Alto\n",
      "GA : Atlanta\n"
     ]
    }
   ],
   "source": [
    "for state, city in cities_by_state.items():\n",
    "    print(state, ':', ', '.join(city))"
   ]
  },
  {
   "cell_type": "code",
   "execution_count": null,
   "metadata": {},
   "outputs": [],
   "source": []
  }
 ],
 "metadata": {
  "kernelspec": {
   "display_name": "Python 3",
   "language": "python",
   "name": "python3"
  },
  "language_info": {
   "codemirror_mode": {
    "name": "ipython",
    "version": 3
   },
   "file_extension": ".py",
   "mimetype": "text/x-python",
   "name": "python",
   "nbconvert_exporter": "python",
   "pygments_lexer": "ipython3",
   "version": "3.7.5"
  }
 },
 "nbformat": 4,
 "nbformat_minor": 2
}
