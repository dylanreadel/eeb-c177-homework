{
 "cells": [
  {
   "cell_type": "markdown",
   "metadata": {},
   "source": [
    "# Lecture Homework 8"
   ]
  },
  {
   "cell_type": "markdown",
   "metadata": {},
   "source": [
    "### Question 1"
   ]
  },
  {
   "cell_type": "code",
   "execution_count": 1,
   "metadata": {},
   "outputs": [
    {
     "name": "stdout",
     "output_type": "stream",
     "text": [
      "Enter temperature: 72\n",
      "Enter C for Celcius or F for Fahrenheit: F\n",
      "The temperature in Celcius 22.22222222222222.\n"
     ]
    }
   ],
   "source": [
    "# 1a)\n",
    "\n",
    "temp = input(\"Enter temperature: \")\n",
    "scale = input(\"Enter C for Celcius or F for Fahrenheit: \")\n",
    "\n",
    "if scale == \"C\":\n",
    "    x = float(temp) * 9 / 5 + 32\n",
    "    print(\"The temperature in Fahrenheit is {}.\".format(x))\n",
    "\n",
    "if scale == \"F\":\n",
    "    x = (float(temp) - 32) * 5 / 9\n",
    "    print(\"The temperature in Celcius {}.\".format(x))"
   ]
  },
  {
   "cell_type": "code",
   "execution_count": 8,
   "metadata": {},
   "outputs": [
    {
     "name": "stdout",
     "output_type": "stream",
     "text": [
      "Enter temperature: 60\n",
      "Enter C for Celcius or F for Fahrenheit: f\n",
      "The temperature in Celcius 15.555555555555555.\n"
     ]
    }
   ],
   "source": [
    "# 1b)\n",
    "\n",
    "temp = input(\"Enter temperature: \")\n",
    "scale = input(\"Enter C for Celcius or F for Fahrenheit: \").upper()   # .upper() to normalize input to uppercase\n",
    "\n",
    "if temp.isdigit() == 1:                                              # isdigit() TRUE converts numerical temp\n",
    "    \n",
    "    if scale == \"C\":\n",
    "        x = float(temp) * 9 / 5 + 32\n",
    "        print(\"The temperature in Fahrenheit is {}.\".format(x))\n",
    "        \n",
    "    if scale == \"F\":\n",
    "        x = (float(temp) - 32) * 5 / 9\n",
    "        print(\"The temperature in Celcius {}.\".format(x))\n",
    "    \n",
    "if temp.isdigit() == 0:                                              # isdigit() FALSE tells user to enter number\n",
    "    print('Please enter a numerical value for the temperature.')"
   ]
  },
  {
   "cell_type": "code",
   "execution_count": 10,
   "metadata": {},
   "outputs": [],
   "source": [
    "# 1c)\n",
    "\n",
    "def temperature_conversion():\n",
    "\n",
    "    temp = input(\"Enter temperature: \")\n",
    "    scale = input(\"Enter C for Celcius or F for Fahrenheit: \").upper()   # .upper() to normalize input to uppercase\n",
    "\n",
    "    if temp.isdigit() == 1:                                              # isdigit() TRUE converts numerical temp\n",
    "    \n",
    "        if scale == \"C\":\n",
    "            x = float(temp) * 9 / 5 + 32\n",
    "            print(\"The temperature in Fahrenheit is {}.\".format(x))\n",
    "        \n",
    "        if scale == \"F\":\n",
    "            x = (float(temp) - 32) * 5 / 9\n",
    "            print(\"The temperature in Celcius {}.\".format(x))\n",
    "    \n",
    "    if temp.isdigit() == 0:                                              # isdigit() FALSE tells user to enter number\n",
    "            print('Please enter a numerical value for the temperature.')"
   ]
  },
  {
   "cell_type": "code",
   "execution_count": 11,
   "metadata": {},
   "outputs": [
    {
     "name": "stdout",
     "output_type": "stream",
     "text": [
      "Enter temperature: 35\n",
      "Enter C for Celcius or F for Fahrenheit: c\n",
      "The temperature in Fahrenheit is 95.0.\n"
     ]
    }
   ],
   "source": [
    "temperature_conversion()"
   ]
  },
  {
   "cell_type": "markdown",
   "metadata": {},
   "source": [
    "### Question 2"
   ]
  },
  {
   "cell_type": "code",
   "execution_count": 12,
   "metadata": {},
   "outputs": [],
   "source": [
    "# 2a)\n",
    "\n",
    "import csv\n",
    "import os\n",
    "\n",
    "datapath = \"/home/eebc177student/Developer/repos/CSB/python/data/\"\n",
    "os.chdir(datapath)\n",
    "\n",
    "with open('Dalziel2016_data.csv') as fr:\n",
    "    reader = csv.DictReader(fr)\n",
    "    header = reader.fieldnames\n",
    "    with open('Dalziel2016_cases1920.csv', 'w') as fw:\n",
    "        writer = csv.DictWriter(fw, fieldnames = header, delimiter = ',')\n",
    "        for row in reader:\n",
    "            if row['year'] == 1920:\n",
    "                writer.writerow(row)"
   ]
  },
  {
   "cell_type": "code",
   "execution_count": 20,
   "metadata": {},
   "outputs": [],
   "source": [
    "# 2b)\n",
    "\n",
    "import csv\n",
    "import os\n",
    "\n",
    "datapath = \"/home/eebc177student/Developer/repos/CSB/python/data/\"\n",
    "os.chdir(datapath)\n",
    "\n",
    "with open('Dalziel2016_data.csv') as fr:\n",
    "    reader = csv.DictReader(fr)\n",
    "    header = reader.fieldnames\n",
    "    with open('Dalziel2016_Washington.csv', 'w') as fw:\n",
    "        writer = csv.DictWriter(fw, fieldnames = header, delimiter = ',')\n",
    "        for row in reader:\n",
    "            if row['loc'] == 'WASHINGTON':\n",
    "                writer.writerow(row)"
   ]
  },
  {
   "cell_type": "code",
   "execution_count": 29,
   "metadata": {},
   "outputs": [
    {
     "ename": "SyntaxError",
     "evalue": "unexpected EOF while parsing (<ipython-input-29-d4911cc1336d>, line 15)",
     "output_type": "error",
     "traceback": [
      "\u001b[0;36m  File \u001b[0;32m\"<ipython-input-29-d4911cc1336d>\"\u001b[0;36m, line \u001b[0;32m15\u001b[0m\n\u001b[0;31m    #print(row['loc'], row['pop'])\u001b[0m\n\u001b[0m                                  ^\u001b[0m\n\u001b[0;31mSyntaxError\u001b[0m\u001b[0;31m:\u001b[0m unexpected EOF while parsing\n"
     ]
    }
   ],
   "source": [
    "# 2c)\n",
    "\n",
    "import csv\n",
    "import os\n",
    "\n",
    "datapath = \"/home/eebc177student/Developer/repos/CSB/python/data/\"\n",
    "os.chdir(datapath)\n",
    "\n",
    "with open('Dalziel2016_data.csv') as fr:\n",
    "    reader = csv.DictReader(fr)\n",
    "        for row in reader:\n",
    "            #print(row['loc'], row['pop'])    (ignore error)"
   ]
  },
  {
   "cell_type": "code",
   "execution_count": 23,
   "metadata": {},
   "outputs": [
    {
     "data": {
      "text/plain": [
       "{'BALTIMORE',\n",
       " 'BOSTON',\n",
       " 'BRIDGEPORT',\n",
       " 'BUFFALO',\n",
       " 'CHICAGO',\n",
       " 'CINCINNATI',\n",
       " 'CLEVELAND',\n",
       " 'COLUMBUS',\n",
       " 'DENVER',\n",
       " 'DETROIT',\n",
       " 'DULUTH',\n",
       " 'FALL RIVER',\n",
       " 'GRAND RAPIDS',\n",
       " 'HARTFORD',\n",
       " 'INDIANAPOLIS',\n",
       " 'KANSAS CITY',\n",
       " 'LOS ANGELES',\n",
       " 'MILWAUKEE',\n",
       " 'MINNEAPOLIS',\n",
       " 'NASHVILLE',\n",
       " 'NEW HAVEN',\n",
       " 'NEW ORLEANS',\n",
       " 'NEW YORK',\n",
       " 'NEWARK',\n",
       " 'PHILADELPHIA',\n",
       " 'PITTSBURGH',\n",
       " 'PROVIDENCE',\n",
       " 'READING.US',\n",
       " 'RICHMOND',\n",
       " 'ROCHESTER',\n",
       " 'SALT LAKE CITY',\n",
       " 'SAN FRANCISCO',\n",
       " 'SEATTLE',\n",
       " 'SPOKANE',\n",
       " 'SPRINGFIELD',\n",
       " 'ST LOUIS',\n",
       " 'TOLEDO',\n",
       " 'TRENTON',\n",
       " 'WASHINGTON',\n",
       " 'WORCESTER'}"
      ]
     },
     "execution_count": 23,
     "metadata": {},
     "output_type": "execute_result"
    }
   ],
   "source": [
    "# 3a)\n",
    "\n",
    "import pandas as pd\n",
    "\n",
    "data = pd.read_csv('Dalziel2016_data.csv')\n",
    "\n",
    "cities = set(data['loc'])\n",
    "\n",
    "cities"
   ]
  },
  {
   "cell_type": "code",
   "execution_count": 26,
   "metadata": {},
   "outputs": [
    {
     "data": {
      "text/plain": [
       "{'SALT LAKE CITY': 1118,\n",
       " 'NASHVILLE': 1118,\n",
       " 'NEWARK': 1118,\n",
       " 'NEW YORK': 1118,\n",
       " 'DETROIT': 1118,\n",
       " 'NEW ORLEANS': 1118,\n",
       " 'SPRINGFIELD': 1118,\n",
       " 'BRIDGEPORT': 1118,\n",
       " 'RICHMOND': 1118,\n",
       " 'BUFFALO': 1118,\n",
       " 'LOS ANGELES': 1118,\n",
       " 'BALTIMORE': 1118,\n",
       " 'CLEVELAND': 1118,\n",
       " 'HARTFORD': 1118,\n",
       " 'COLUMBUS': 1118,\n",
       " 'ROCHESTER': 1118,\n",
       " 'WASHINGTON': 1118,\n",
       " 'PITTSBURGH': 1118,\n",
       " 'ST LOUIS': 1118,\n",
       " 'MILWAUKEE': 1118,\n",
       " 'READING.US': 1118,\n",
       " 'DENVER': 1118,\n",
       " 'NEW HAVEN': 1118,\n",
       " 'SEATTLE': 1118,\n",
       " 'SPOKANE': 1118,\n",
       " 'WORCESTER': 1118,\n",
       " 'SAN FRANCISCO': 1118,\n",
       " 'TRENTON': 1118,\n",
       " 'MINNEAPOLIS': 1118,\n",
       " 'CHICAGO': 1118,\n",
       " 'FALL RIVER': 1118,\n",
       " 'TOLEDO': 1118,\n",
       " 'PROVIDENCE': 1118,\n",
       " 'KANSAS CITY': 1118,\n",
       " 'CINCINNATI': 1118,\n",
       " 'DULUTH': 1118,\n",
       " 'BOSTON': 1118,\n",
       " 'PHILADELPHIA': 1118,\n",
       " 'INDIANAPOLIS': 1118,\n",
       " 'GRAND RAPIDS': 1118}"
      ]
     },
     "execution_count": 26,
     "metadata": {},
     "output_type": "execute_result"
    }
   ],
   "source": [
    "# 3b)\n",
    "\n",
    "data = pd.read_csv('Dalziel2016_data.csv')\n",
    "    \n",
    "city_counts = (data['loc'].value_counts()).to_dict()\n",
    "\n",
    "city_counts"
   ]
  },
  {
   "cell_type": "code",
   "execution_count": 40,
   "metadata": {},
   "outputs": [
    {
     "data": {
      "text/plain": [
       "[(0        BALTIMORE\n",
       "  1        BALTIMORE\n",
       "  2        BALTIMORE\n",
       "  3        BALTIMORE\n",
       "  4        BALTIMORE\n",
       "             ...    \n",
       "  44715    WORCESTER\n",
       "  44716    WORCESTER\n",
       "  44717    WORCESTER\n",
       "  44718    WORCESTER\n",
       "  44719    WORCESTER\n",
       "  Name: loc, Length: 44720, dtype: object, 0        526822.1365\n",
       "  1        526995.2460\n",
       "  2        527170.1981\n",
       "  3        527347.0136\n",
       "  4        527525.7134\n",
       "              ...     \n",
       "  44715    202710.7667\n",
       "  44716    202741.5117\n",
       "  44717    202771.9085\n",
       "  44718    202801.9535\n",
       "  44719    202831.6432\n",
       "  Name: pop, Length: 44720, dtype: float64)]"
      ]
     },
     "execution_count": 40,
     "metadata": {},
     "output_type": "execute_result"
    }
   ],
   "source": [
    "# 3c) can't figure this one out\n",
    "\n",
    "data = pd.read_csv('Dalziel2016_data.csv')\n",
    "\n",
    "avg_city_pop = list()"
   ]
  },
  {
   "cell_type": "code",
   "execution_count": 42,
   "metadata": {},
   "outputs": [],
   "source": [
    "# 3d) can't figure this one out\n",
    "\n",
    "# same concept as 3c)"
   ]
  },
  {
   "cell_type": "code",
   "execution_count": null,
   "metadata": {},
   "outputs": [],
   "source": []
  }
 ],
 "metadata": {
  "kernelspec": {
   "display_name": "Python 3",
   "language": "python",
   "name": "python3"
  },
  "language_info": {
   "codemirror_mode": {
    "name": "ipython",
    "version": 3
   },
   "file_extension": ".py",
   "mimetype": "text/x-python",
   "name": "python",
   "nbconvert_exporter": "python",
   "pygments_lexer": "ipython3",
   "version": "3.7.5"
  }
 },
 "nbformat": 4,
 "nbformat_minor": 2
}
