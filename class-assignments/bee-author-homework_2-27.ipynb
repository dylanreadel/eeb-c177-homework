{
 "cells": [
  {
   "cell_type": "code",
   "execution_count": 1,
   "metadata": {},
   "outputs": [
    {
     "data": {
      "text/plain": [
       "'The author with the most entries in the database is Cockerell with 3345 entries.'"
      ]
     },
     "execution_count": 1,
     "metadata": {},
     "output_type": "execute_result"
    }
   ],
   "source": [
    "import csv\n",
    "import re\n",
    "from collections import defaultdict\n",
    "import operator\n",
    "\n",
    "def find_authors(filename, author_col_header, regex):\n",
    "# function with parameters for filename, author column header name, and the regex you want to search with\n",
    "\n",
    "    authors = []\n",
    "\n",
    "    with open(filename, 'r') as rf:\n",
    "        data = csv.DictReader(rf, delimiter = '\\t')\n",
    "        header = data.fieldnames\n",
    "        for dic in data:\n",
    "            authors.append(dic[author_col_header])\n",
    "    # reading the file as a dictionary\n",
    "    # appending the authors dictionary to a list where each item is the authors of an entry\n",
    "    \n",
    "    charRe = re.compile(regex)\n",
    "    # defining the parameter for what an author name is\n",
    "    \n",
    "    indiv_authors = list()\n",
    "    # creating empty list that will contain separated author names\n",
    "    \n",
    "    author_counts = defaultdict(int)\n",
    "    # creating empty integer default dictionary that will contain entry counts for each author\n",
    "    \n",
    "    for item in authors:\n",
    "        indiv_authors.append(charRe.search(item).group(0))\n",
    "    # iterating over author entries in raw list\n",
    "    # search each entry and extract author names only and separately\n",
    "    # append each individual name to the empty list\n",
    "    \n",
    "    for author in indiv_authors:\n",
    "        author_counts[author] += 1\n",
    "    # iterating over individual names in list\n",
    "    # creaing key in dictionary for each name\n",
    "    # setting value of each name as the number of entries\n",
    "    \n",
    "    sorted_authors = sorted(author_counts.items(), key = operator.itemgetter(1), reverse = True)\n",
    "    author_most = sorted_authors[0]\n",
    "    # sorting the dictionary in descending order and assigning to variable\n",
    "    # taking first item in sorted list and assigning to variable\n",
    "    \n",
    "    return 'The author with the most entries in the database is {} with {} entries.'.format(author_most[0], author_most[1])\n",
    "        \n",
    "find_authors('bee_list.txt', 'Taxon Author', '[A-Z][^.][a-z-]*[^, ]*')"
   ]
  },
  {
   "cell_type": "code",
   "execution_count": null,
   "metadata": {},
   "outputs": [],
   "source": []
  }
 ],
 "metadata": {
  "kernelspec": {
   "display_name": "Python 3",
   "language": "python",
   "name": "python3"
  },
  "language_info": {
   "codemirror_mode": {
    "name": "ipython",
    "version": 3
   },
   "file_extension": ".py",
   "mimetype": "text/x-python",
   "name": "python",
   "nbconvert_exporter": "python",
   "pygments_lexer": "ipython3",
   "version": "3.7.5"
  }
 },
 "nbformat": 4,
 "nbformat_minor": 2
}
