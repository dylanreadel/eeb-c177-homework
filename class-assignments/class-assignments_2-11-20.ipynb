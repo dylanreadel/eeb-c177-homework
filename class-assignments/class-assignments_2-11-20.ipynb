{
 "cells": [
  {
   "cell_type": "code",
   "execution_count": 1,
   "metadata": {},
   "outputs": [],
   "source": [
    "food_list = 'spam spam spam spam spam spam eggs spam'.split()"
   ]
  },
  {
   "cell_type": "code",
   "execution_count": 2,
   "metadata": {},
   "outputs": [
    {
     "name": "stdout",
     "output_type": "stream",
     "text": [
      "['spam', 'spam', 'spam', 'spam', 'spam', 'spam', 'eggs', 'spam']\n"
     ]
    }
   ],
   "source": [
    "print(food_list)"
   ]
  },
  {
   "cell_type": "code",
   "execution_count": 4,
   "metadata": {},
   "outputs": [
    {
     "name": "stdout",
     "output_type": "stream",
     "text": [
      "d\n",
      "y\n",
      "l\n",
      "a\n",
      "n\n"
     ]
    }
   ],
   "source": [
    "# Challenge 1\n",
    "\n",
    "name = 'dylan'\n",
    "\n",
    "for letter in name:\n",
    "    print(letter)"
   ]
  },
  {
   "cell_type": "code",
   "execution_count": 10,
   "metadata": {},
   "outputs": [
    {
     "name": "stdout",
     "output_type": "stream",
     "text": [
      "Key a with the value 1 is odd.\n",
      "Key b with the value 2 is even.\n",
      "Key c with the value 3 is odd.\n",
      "Key d with the value 4 is even.\n",
      "Key e with the value 5 is odd.\n"
     ]
    }
   ],
   "source": [
    "# Challenge 2\n",
    "\n",
    "dic = {'a' : 1, 'b' : 2, 'c' : 3, 'd' : 4, 'e' : 5}\n",
    "\n",
    "\n",
    "for ii, value in dic.items():\n",
    "    if (value % 2 == 0):\n",
    "        print('Key', ii, 'with the value', value, 'is even.')\n",
    "    elif (value % 2 == 1):\n",
    "        print('Key', ii, 'with the value', value, 'is odd.')"
   ]
  },
  {
   "cell_type": "code",
   "execution_count": 13,
   "metadata": {},
   "outputs": [
    {
     "name": "stdout",
     "output_type": "stream",
     "text": [
      "The value at key a is 1.\n",
      "1 is odd.\n",
      "The value at key b is 2.\n",
      "2 is even.\n",
      "The value at key c is 3.\n",
      "3 is odd.\n",
      "The value at key d is 4.\n",
      "4 is even.\n",
      "The value at key e is 5.\n",
      "5 is odd.\n"
     ]
    }
   ],
   "source": [
    "for key in dic.keys():\n",
    "    print('The value at key {} is {}.'.format(key, dic[key]))\n",
    "    if (dic[key] % 2 == 0):\n",
    "        print('{} is even.'.format(dic[key]))\n",
    "    else:\n",
    "        print('{} is odd.'.format(dic[key]))"
   ]
  },
  {
   "cell_type": "code",
   "execution_count": 17,
   "metadata": {},
   "outputs": [
    {
     "name": "stdout",
     "output_type": "stream",
     "text": [
      "True\n",
      "False\n",
      "True\n"
     ]
    }
   ],
   "source": [
    "print('ATGCTT'.startswith('ATG'))\n",
    "\n",
    "print('ATGCTT'.islower())\n",
    "\n",
    "print('V' in ['V', 'W', 'L'])"
   ]
  },
  {
   "cell_type": "code",
   "execution_count": 18,
   "metadata": {},
   "outputs": [
    {
     "data": {
      "text/plain": [
       "True"
      ]
     },
     "execution_count": 18,
     "metadata": {},
     "output_type": "execute_result"
    }
   ],
   "source": [
    "'ATGCTT'.startswith('ATG')"
   ]
  },
  {
   "cell_type": "code",
   "execution_count": 20,
   "metadata": {},
   "outputs": [
    {
     "name": "stdout",
     "output_type": "stream",
     "text": [
      "Input a word or sentence: abcdefghijklmnopqrstuvwxyz\n",
      "The number of vowels in the string are: 5\n"
     ]
    }
   ],
   "source": [
    "string = str(input('Input a word or sentence: '))\n",
    "\n",
    "vowels = 0\n",
    "\n",
    "for v in string:\n",
    "    if (v == 'a' or\n",
    "        v == 'e' or\n",
    "        v == 'i' or\n",
    "        v == 'o' or\n",
    "        v == 'u' or\n",
    "        v == 'A' or\n",
    "        v == 'E' or\n",
    "        v == 'I' or\n",
    "        v == 'O' or\n",
    "        v == 'U'):\n",
    "        vowels = vowels + 1\n",
    "\n",
    "print(\"The number of vowels in the string are:\", vowels)"
   ]
  },
  {
   "cell_type": "code",
   "execution_count": null,
   "metadata": {},
   "outputs": [],
   "source": []
  }
 ],
 "metadata": {
  "kernelspec": {
   "display_name": "Python 3",
   "language": "python",
   "name": "python3"
  },
  "language_info": {
   "codemirror_mode": {
    "name": "ipython",
    "version": 3
   },
   "file_extension": ".py",
   "mimetype": "text/x-python",
   "name": "python",
   "nbconvert_exporter": "python",
   "pygments_lexer": "ipython3",
   "version": "3.7.5"
  }
 },
 "nbformat": 4,
 "nbformat_minor": 2
}
