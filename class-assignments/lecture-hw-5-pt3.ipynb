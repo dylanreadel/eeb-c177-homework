{
 "cells": [
  {
   "cell_type": "code",
   "execution_count": 3,
   "metadata": {},
   "outputs": [
    {
     "name": "stdout",
     "output_type": "stream",
     "text": [
      "{'a': 1, 'b': 7, 'c': 4}\n",
      "Dictionary in ascending order: [('a', 1), ('c', 4), ('b', 7)]\n",
      "Dictionary in descending order: [('b', 7), ('c', 4), ('a', 1)]\n"
     ]
    }
   ],
   "source": [
    "# Problem 1\n",
    "\n",
    "dict_samp = {'a': 1, 'b': 7, 'c': 4}\n",
    "print(dict_samp)\n",
    "# creates a dictionary with 3 values and prints it\n",
    "\n",
    "import operator\n",
    "# imports a module known as operator\n",
    "\n",
    "ascending_dict = sorted(dict_samp.items(), key=operator.itemgetter(1))\n",
    "# takes each value in the dictionary and sorts it, default is ascending\n",
    "print('Dictionary in ascending order:', ascending_dict)\n",
    "# prints ascending dictionary\n",
    "\n",
    "descending_dict = sorted(dict_samp.items(), key=operator.itemgetter(1), reverse=True)\n",
    "# takes each value in the dictionary and sorts it in reverse order of default\n",
    "print('Dictionary in descending order:', descending_dict)\n",
    "# prints descending dictionary"
   ]
  },
  {
   "cell_type": "code",
   "execution_count": 5,
   "metadata": {},
   "outputs": [
    {
     "name": "stdout",
     "output_type": "stream",
     "text": [
      "{0: 10, 1: 20}\n",
      "{0: 10, 1: 20, 2: 30}\n"
     ]
    }
   ],
   "source": [
    "# Problem 2\n",
    "\n",
    "dict1 = {0: 10, 1: 20}\n",
    "print(dict1)\n",
    "# creates dict1 and prints it\n",
    "\n",
    "dict1[2] = 30\n",
    "# adds a value of 30 for key 2\n",
    "\n",
    "print(dict1)\n",
    "# prints dict1 with the new key"
   ]
  },
  {
   "cell_type": "code",
   "execution_count": 14,
   "metadata": {},
   "outputs": [
    {
     "name": "stdout",
     "output_type": "stream",
     "text": [
      "{1: 10, 2: 20, 3: 30, 4: 40, 5: 50, 6: 60}\n"
     ]
    }
   ],
   "source": [
    "# Problem 3\n",
    "\n",
    "dic1 = {1: 10, 2: 20}\n",
    "dic2 = {3: 30, 4: 40}\n",
    "dic3 = {5: 50, 6: 60}\n",
    "# three sample dictionaries\n",
    "\n",
    "dic4 = {}\n",
    "# creates an empty dictionary\n",
    "\n",
    "for keys in (dic1, dic2, dic3):\n",
    "    dic4.update(keys)\n",
    "# take each key in three dictionaries and update them into dic4\n",
    "\n",
    "print(dic4)\n",
    "# prints dic4 with content"
   ]
  },
  {
   "cell_type": "code",
   "execution_count": 32,
   "metadata": {},
   "outputs": [
    {
     "name": "stdout",
     "output_type": "stream",
     "text": [
      "Key, x = h , is not in dictionary.\n",
      "Key, x = c , is in dictionary.\n",
      "Key, x = aa , is not in dictionary.\n",
      "Key, x = 7 , is not in dictionary.\n"
     ]
    }
   ],
   "source": [
    "# Problem 4\n",
    "\n",
    "dict_samp = {'a': 1, 'b': 7, 'c': 4}\n",
    "# creates sample dictionary\n",
    "\n",
    "def key(x):\n",
    "# defines a new parameter \"key\" with x representing keys\n",
    "    if x in dict_samp:\n",
    "    # an if statement of whether key is in dictionary\n",
    "        print('Key,', 'x =', x,',','is in dictionary.')\n",
    "        # if x key is in dictionary, it prints this statement\n",
    "    else:\n",
    "        print('Key,', 'x =', x,',','is not in dictionary.')\n",
    "        # if x key is not in dictionary it prints this statement\n",
    "        \n",
    "key('h')\n",
    "key('c')\n",
    "key('aa')\n",
    "key(7)\n",
    "# sample keys to run through if else loop"
   ]
  },
  {
   "cell_type": "code",
   "execution_count": 42,
   "metadata": {},
   "outputs": [
    {
     "name": "stdout",
     "output_type": "stream",
     "text": [
      "1 : 10\n",
      "2 : 20\n",
      "3 : 30\n",
      "4 : 40\n"
     ]
    }
   ],
   "source": [
    "# Problem 5\n",
    "\n",
    "dic = {1: 10, 2: 20, 3: 30, 4: 40}\n",
    "\n",
    "# sample dictionary\n",
    "\n",
    "for key, value in dic.items():\n",
    "# for each key and value in dictionary by going through the items\n",
    "    print(key, ':', value)\n",
    "    # print each key, then a colon, then its corresponding value"
   ]
  },
  {
   "cell_type": "code",
   "execution_count": 45,
   "metadata": {},
   "outputs": [
    {
     "name": "stdout",
     "output_type": "stream",
     "text": [
      "Input a number: 5\n",
      "{1: 1, 2: 4, 3: 9, 4: 16, 5: 25}\n"
     ]
    }
   ],
   "source": [
    "# Problem 6\n",
    "\n",
    "n = int(input(\"Input a number: \"))\n",
    "# creates a variable that can accept user input\n",
    "\n",
    "d = dict()\n",
    "#d efines a new, empty dictionary\n",
    "\n",
    "for x in range(1, n + 1):\n",
    "    d[x] = x * x\n",
    "    # iteratively goes through each x in the range specified by the user and creates dictionary keys and values\n",
    "\n",
    "print(d)\n",
    "# prints the dictionary"
   ]
  },
  {
   "cell_type": "code",
   "execution_count": 47,
   "metadata": {},
   "outputs": [
    {
     "name": "stdout",
     "output_type": "stream",
     "text": [
      "{1: 1, 2: 4, 3: 9, 4: 16, 5: 25, 6: 36, 7: 49, 8: 64, 9: 81, 10: 100, 11: 121, 12: 144, 13: 169, 14: 196, 15: 225}\n"
     ]
    }
   ],
   "source": [
    "# Problem 7\n",
    "\n",
    "dic = dict()\n",
    "# defines a new, empty dictionary\n",
    "\n",
    "for x in range(1, 16):\n",
    "    dic[x] = x * x\n",
    "    # iteratively goes through each x (1 - 15) and creates keys and values\n",
    "\n",
    "print(dic)\n",
    "# prints the dictionary"
   ]
  },
  {
   "cell_type": "code",
   "execution_count": 49,
   "metadata": {},
   "outputs": [
    {
     "name": "stdout",
     "output_type": "stream",
     "text": [
      "{1: 1, 2: 4, 3: 9, 4: 16, 5: 25, 'a': 1, 'b': 7, 'c': 4}\n"
     ]
    }
   ],
   "source": [
    "# Problem 8\n",
    "\n",
    "dic1 = {1: 1, 2: 4, 3: 9, 4: 16, 5: 25}\n",
    "dic2 = {'a': 1, 'b': 7, 'c': 4}\n",
    "# two sample dictionaries\n",
    "\n",
    "dic3 = {}\n",
    "# creates new dictionary\n",
    "\n",
    "for keys in (dic1, dic2):\n",
    "    dic3.update(keys)\n",
    "    # take the content from dic1 and dic2 and place it in new dic3\n",
    "\n",
    "print(dic3)\n",
    "# print dic3"
   ]
  },
  {
   "cell_type": "code",
   "execution_count": 50,
   "metadata": {},
   "outputs": [
    {
     "name": "stdout",
     "output_type": "stream",
     "text": [
      "Red corresponds to  1\n",
      "Green corresponds to  2\n",
      "Blue corresponds to  3\n"
     ]
    }
   ],
   "source": [
    "# Problem 9 (same as Problem 5)\n",
    "\n",
    "d = {'Red': 1, 'Green': 2, 'Blue': 3} \n",
    "# defines dictionary\n",
    "\n",
    "for color_key, value in d.items():\n",
    "# for each color key and value in the dictionary\n",
    "     print(color_key, 'corresponds to ', d[color_key])\n",
    "     # print \"color\" corresponds to \"key\""
   ]
  },
  {
   "cell_type": "code",
   "execution_count": 54,
   "metadata": {},
   "outputs": [
    {
     "name": "stdout",
     "output_type": "stream",
     "text": [
      "55\n"
     ]
    }
   ],
   "source": [
    "# Problem 10\n",
    "\n",
    "dic = {1: 1, 2: 4, 3: 9, 4: 16, 5: 25}\n",
    "# define dictionary\n",
    "\n",
    "print(sum(dic.values()))\n",
    "# print the sum of the values in the dictionary"
   ]
  },
  {
   "cell_type": "code",
   "execution_count": null,
   "metadata": {},
   "outputs": [],
   "source": []
  }
 ],
 "metadata": {
  "kernelspec": {
   "display_name": "Python 3",
   "language": "python",
   "name": "python3"
  },
  "language_info": {
   "codemirror_mode": {
    "name": "ipython",
    "version": 3
   },
   "file_extension": ".py",
   "mimetype": "text/x-python",
   "name": "python",
   "nbconvert_exporter": "python",
   "pygments_lexer": "ipython3",
   "version": "3.7.5"
  }
 },
 "nbformat": 4,
 "nbformat_minor": 2
}
