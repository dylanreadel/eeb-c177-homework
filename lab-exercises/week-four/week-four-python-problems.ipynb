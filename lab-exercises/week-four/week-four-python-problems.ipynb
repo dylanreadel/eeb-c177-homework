{
 "cells": [
  {
   "cell_type": "code",
   "execution_count": 2,
   "metadata": {},
   "outputs": [
    {
     "name": "stdout",
     "output_type": "stream",
     "text": [
      "first three characters: oxy\n",
      "last three characters: gen\n"
     ]
    }
   ],
   "source": [
    "element = 'oxygen'\n",
    "print('first three characters:', element[0:3])\n",
    "print('last three characters:', element[3:6])"
   ]
  },
  {
   "cell_type": "code",
   "execution_count": 21,
   "metadata": {},
   "outputs": [
    {
     "name": "stdout",
     "output_type": "stream",
     "text": [
      "oxyg\n",
      "en\n",
      "oxygen\n",
      "n\n",
      "e\n",
      "xyge\n",
      "\n"
     ]
    }
   ],
   "source": [
    "# Slicing Strings\n",
    "\n",
    "# 1.\n",
    "\n",
    "print(element[:4])\n",
    "print(element[4:])\n",
    "print(element[:])\n",
    "\n",
    "# 2.\n",
    "\n",
    "print(element[-1])\n",
    "print(element[-2])\n",
    "\n",
    "# 3.\n",
    "# this input starts with character \"1\" which is the second character of the string\n",
    "# it goes up until the last character, so the string is \"xyge\"\n",
    "\n",
    "print(element[1:-1])\n",
    "\n",
    "# 4.\n",
    "\n",
    "print(element[3:3])\n",
    "\n",
    "# data[3:3, 4:4] would produce no output because there is no selected data for rows or columns\n",
    "# data[3:3, :] would produce no output as well because no rows are selected even though all columns are selected\n",
    "\n",
    "import numpy as np"
   ]
  },
  {
   "cell_type": "code",
   "execution_count": 18,
   "metadata": {},
   "outputs": [],
   "source": [
    "data = np.loadtxt(fname='inflammation-01.csv', delimiter=',')"
   ]
  },
  {
   "cell_type": "code",
   "execution_count": 20,
   "metadata": {},
   "outputs": [
    {
     "name": "stdout",
     "output_type": "stream",
     "text": [
      "[]\n",
      "[]\n"
     ]
    }
   ],
   "source": [
    "print(data[3:3, 4:4])\n",
    "print(data[3:3, :])"
   ]
  },
  {
   "cell_type": "code",
   "execution_count": 24,
   "metadata": {},
   "outputs": [
    {
     "name": "stdout",
     "output_type": "stream",
     "text": [
      "A = \n",
      "[[1 2 3]\n",
      " [4 5 6]\n",
      " [7 8 9]]\n",
      "B = \n",
      "[[1 2 3 1 2 3]\n",
      " [4 5 6 4 5 6]\n",
      " [7 8 9 7 8 9]]\n",
      "C = \n",
      "[[1 2 3]\n",
      " [4 5 6]\n",
      " [7 8 9]\n",
      " [1 2 3]\n",
      " [4 5 6]\n",
      " [7 8 9]]\n",
      "F = \n",
      "[[1 3]\n",
      " [4 6]\n",
      " [7 9]]\n"
     ]
    }
   ],
   "source": [
    "# Stacking Arrays\n",
    "\n",
    "import numpy\n",
    "\n",
    "A = numpy.array([[1,2,3], [4,5,6], [7, 8, 9]])\n",
    "print('A = ')\n",
    "print(A)\n",
    "\n",
    "B = numpy.hstack([A, A])\n",
    "print('B = ')\n",
    "print(B)\n",
    "\n",
    "C = numpy.vstack([A, A])\n",
    "print('C = ')\n",
    "print(C)\n",
    "\n",
    "# 1.\n",
    "\n",
    "D = A[:, :1]\n",
    "E = A[:, 2:]\n",
    "F = numpy.hstack([D, E])\n",
    "print('F = ')\n",
    "print(F)"
   ]
  },
  {
   "cell_type": "code",
   "execution_count": 40,
   "metadata": {},
   "outputs": [
    {
     "name": "stdout",
     "output_type": "stream",
     "text": [
      "Largest Change in Inflammation for each Patient: [ 7. 12. 11.  7. 12. 11.  7. 12. 11.  7. 12. 11.  7. 12. 11.  7. 12. 11.\n",
      "  7. 12. 11.  7. 12. 11.  7. 12. 11.  7. 12. 11.  7. 12. 11.  7. 12. 11.\n",
      "  7. 12. 11.  7. 12. 11.  7. 12. 11.  7. 12. 11.  7. 12. 11.  7. 12. 11.]\n"
     ]
    }
   ],
   "source": [
    "# Change in Inflammation\n",
    "\n",
    "npdiff = numpy.array([ 0,  2,  5,  9, 14])\n",
    "\n",
    "numpy.diff(npdiff)\n",
    "\n",
    "# 1.\n",
    "# it would make sense to do this on the horizontal axis \n",
    "# because it would show change in inflammation from day to day\n",
    "\n",
    "# 2.\n",
    "# if you ran the diff() on the horizontal axis, it would produce an array of (60, 39)\n",
    "# because it's always one less when taking each difference\n",
    "\n",
    "# 3.\n",
    "\n",
    "infl_diff = numpy.diff(data, axis = 1)\n",
    "max_infl_diff = numpy.max(infl_diff, axis = 1)\n",
    "print(\"Largest Change in Inflammation for each Patient:\", max_infl_diff)"
   ]
  },
  {
   "cell_type": "code",
   "execution_count": null,
   "metadata": {},
   "outputs": [],
   "source": []
  }
 ],
 "metadata": {
  "kernelspec": {
   "display_name": "Python 3",
   "language": "python",
   "name": "python3"
  },
  "language_info": {
   "codemirror_mode": {
    "name": "ipython",
    "version": 3
   },
   "file_extension": ".py",
   "mimetype": "text/x-python",
   "name": "python",
   "nbconvert_exporter": "python",
   "pygments_lexer": "ipython3",
   "version": "3.7.5"
  }
 },
 "nbformat": 4,
 "nbformat_minor": 2
}
